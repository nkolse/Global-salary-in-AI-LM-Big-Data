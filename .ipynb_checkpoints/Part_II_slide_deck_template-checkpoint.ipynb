{
 "cells": [
  {
   "cell_type": "markdown",
   "metadata": {
    "slideshow": {
     "slide_type": "slide"
    }
   },
   "source": [
    "# Part II - What Are The Determinant Of Global salaries in AI/ML and Big Data\n",
    "## by Nicholas Seswa Anungo"
   ]
  },
  {
   "cell_type": "markdown",
   "metadata": {
    "slideshow": {
     "slide_type": "slide"
    }
   },
   "source": [
    "## Investigation Overview\n",
    "\n",
    "In this investigation, I wanted to look at the various variables found in the dataset that could be used to predict the salary of AI/ML and Big Data jobs. The main focus was on the three features: work_year, company_size,and experience_level."
   ]
  },
  {
   "cell_type": "markdown",
   "metadata": {
    "slideshow": {
     "slide_type": "fragment"
    }
   },
   "source": [
    "## Dataset Overview\n",
    "\n",
    "The data consists of information regarding salary anonymously from professionals all over the world in the AI/ML and Big Data space. The dataset can be found in the this ai-jobs.net website. The 'salary' and 'salary_currency' columns were dropped to avoid iteration of the information since we had a column of salary_in_usd."
   ]
  },
  {
   "cell_type": "code",
   "execution_count": 1,
   "metadata": {
    "slideshow": {
     "slide_type": "skip"
    }
   },
   "outputs": [],
   "source": [
    "# import all packages and set plots to be embedded inline\n",
    "import numpy as np\n",
    "import pandas as pd\n",
    "import matplotlib.pyplot as plt\n",
    "import seaborn as sb\n",
    "\n",
    "%matplotlib inline\n",
    "\n",
    "# suppress warnings from final output\n",
    "import warnings\n",
    "warnings.simplefilter(\"ignore\")"
   ]
  },
  {
   "cell_type": "code",
   "execution_count": 2,
   "metadata": {
    "slideshow": {
     "slide_type": "skip"
    }
   },
   "outputs": [],
   "source": [
    "# load in the dataset into a pandas dataframe\n",
    "Salary =pd.read_csv('Salary.csv')"
   ]
  },
  {
   "cell_type": "code",
   "execution_count": 3,
   "metadata": {
    "slideshow": {
     "slide_type": "skip"
    }
   },
   "outputs": [],
   "source": [
    "#loading the background theme to be used in the plots\n",
    "sb.set_theme()"
   ]
  },
  {
   "cell_type": "code",
   "execution_count": 4,
   "metadata": {
    "slideshow": {
     "slide_type": "skip"
    }
   },
   "outputs": [
    {
     "data": {
      "text/html": [
       "<div>\n",
       "<style scoped>\n",
       "    .dataframe tbody tr th:only-of-type {\n",
       "        vertical-align: middle;\n",
       "    }\n",
       "\n",
       "    .dataframe tbody tr th {\n",
       "        vertical-align: top;\n",
       "    }\n",
       "\n",
       "    .dataframe thead th {\n",
       "        text-align: right;\n",
       "    }\n",
       "</style>\n",
       "<table border=\"1\" class=\"dataframe\">\n",
       "  <thead>\n",
       "    <tr style=\"text-align: right;\">\n",
       "      <th></th>\n",
       "      <th>work_year</th>\n",
       "      <th>experience_level</th>\n",
       "      <th>employment_type</th>\n",
       "      <th>job_title</th>\n",
       "      <th>salary_in_usd</th>\n",
       "      <th>employee_residence</th>\n",
       "      <th>remote_ratio</th>\n",
       "      <th>company_location</th>\n",
       "      <th>company_size</th>\n",
       "      <th>z_score</th>\n",
       "    </tr>\n",
       "  </thead>\n",
       "  <tbody>\n",
       "    <tr>\n",
       "      <th>0</th>\n",
       "      <td>2022</td>\n",
       "      <td>Senior-level</td>\n",
       "      <td>Full-time</td>\n",
       "      <td>Data Engineer</td>\n",
       "      <td>195700</td>\n",
       "      <td>US</td>\n",
       "      <td>On-site</td>\n",
       "      <td>US</td>\n",
       "      <td>Medium</td>\n",
       "      <td>1.129387</td>\n",
       "    </tr>\n",
       "    <tr>\n",
       "      <th>1</th>\n",
       "      <td>2022</td>\n",
       "      <td>Senior-level</td>\n",
       "      <td>Full-time</td>\n",
       "      <td>Data Engineer</td>\n",
       "      <td>130500</td>\n",
       "      <td>US</td>\n",
       "      <td>On-site</td>\n",
       "      <td>US</td>\n",
       "      <td>Medium</td>\n",
       "      <td>0.171046</td>\n",
       "    </tr>\n",
       "    <tr>\n",
       "      <th>2</th>\n",
       "      <td>2022</td>\n",
       "      <td>Senior-level</td>\n",
       "      <td>Full-time</td>\n",
       "      <td>ML Engineer</td>\n",
       "      <td>130000</td>\n",
       "      <td>US</td>\n",
       "      <td>Remote</td>\n",
       "      <td>US</td>\n",
       "      <td>Medium</td>\n",
       "      <td>0.163697</td>\n",
       "    </tr>\n",
       "    <tr>\n",
       "      <th>3</th>\n",
       "      <td>2022</td>\n",
       "      <td>Senior-level</td>\n",
       "      <td>Full-time</td>\n",
       "      <td>ML Engineer</td>\n",
       "      <td>84000</td>\n",
       "      <td>US</td>\n",
       "      <td>Remote</td>\n",
       "      <td>US</td>\n",
       "      <td>Medium</td>\n",
       "      <td>-0.512433</td>\n",
       "    </tr>\n",
       "    <tr>\n",
       "      <th>4</th>\n",
       "      <td>2022</td>\n",
       "      <td>Medium-level</td>\n",
       "      <td>Full-time</td>\n",
       "      <td>Data Operations Engineer</td>\n",
       "      <td>100000</td>\n",
       "      <td>US</td>\n",
       "      <td>Remote</td>\n",
       "      <td>US</td>\n",
       "      <td>Medium</td>\n",
       "      <td>-0.277257</td>\n",
       "    </tr>\n",
       "  </tbody>\n",
       "</table>\n",
       "</div>"
      ],
      "text/plain": [
       "   work_year experience_level employment_type                 job_title  \\\n",
       "0       2022     Senior-level       Full-time             Data Engineer   \n",
       "1       2022     Senior-level       Full-time             Data Engineer   \n",
       "2       2022     Senior-level       Full-time               ML Engineer   \n",
       "3       2022     Senior-level       Full-time               ML Engineer   \n",
       "4       2022     Medium-level       Full-time  Data Operations Engineer   \n",
       "\n",
       "   salary_in_usd employee_residence remote_ratio company_location  \\\n",
       "0         195700                 US      On-site               US   \n",
       "1         130500                 US      On-site               US   \n",
       "2         130000                 US       Remote               US   \n",
       "3          84000                 US       Remote               US   \n",
       "4         100000                 US       Remote               US   \n",
       "\n",
       "  company_size   z_score  \n",
       "0       Medium  1.129387  \n",
       "1       Medium  0.171046  \n",
       "2       Medium  0.163697  \n",
       "3       Medium -0.512433  \n",
       "4       Medium -0.277257  "
      ]
     },
     "execution_count": 4,
     "metadata": {},
     "output_type": "execute_result"
    }
   ],
   "source": [
    "#Using a z-score method to detect the outliers in the salary_in_usd column: \n",
    "Salary['z_score'] = (Salary['salary_in_usd'] - Salary['salary_in_usd'].mean()) / Salary['salary_in_usd'].std()\n",
    "Salary.head()"
   ]
  },
  {
   "cell_type": "code",
   "execution_count": 5,
   "metadata": {
    "slideshow": {
     "slide_type": "skip"
    }
   },
   "outputs": [
    {
     "data": {
      "text/html": [
       "<div>\n",
       "<style scoped>\n",
       "    .dataframe tbody tr th:only-of-type {\n",
       "        vertical-align: middle;\n",
       "    }\n",
       "\n",
       "    .dataframe tbody tr th {\n",
       "        vertical-align: top;\n",
       "    }\n",
       "\n",
       "    .dataframe thead th {\n",
       "        text-align: right;\n",
       "    }\n",
       "</style>\n",
       "<table border=\"1\" class=\"dataframe\">\n",
       "  <thead>\n",
       "    <tr style=\"text-align: right;\">\n",
       "      <th></th>\n",
       "      <th>work_year</th>\n",
       "      <th>experience_level</th>\n",
       "      <th>employment_type</th>\n",
       "      <th>job_title</th>\n",
       "      <th>salary_in_usd</th>\n",
       "      <th>employee_residence</th>\n",
       "      <th>remote_ratio</th>\n",
       "      <th>company_location</th>\n",
       "      <th>company_size</th>\n",
       "      <th>z_score</th>\n",
       "    </tr>\n",
       "  </thead>\n",
       "  <tbody>\n",
       "    <tr>\n",
       "      <th>641</th>\n",
       "      <td>2022</td>\n",
       "      <td>Excutive-level</td>\n",
       "      <td>Full-time</td>\n",
       "      <td>Data Engineer</td>\n",
       "      <td>324000</td>\n",
       "      <td>US</td>\n",
       "      <td>Remote</td>\n",
       "      <td>US</td>\n",
       "      <td>Medium</td>\n",
       "      <td>3.015202</td>\n",
       "    </tr>\n",
       "    <tr>\n",
       "      <th>695</th>\n",
       "      <td>2022</td>\n",
       "      <td>Senior-level</td>\n",
       "      <td>Full-time</td>\n",
       "      <td>Data Analytics Lead</td>\n",
       "      <td>405000</td>\n",
       "      <td>US</td>\n",
       "      <td>Remote</td>\n",
       "      <td>US</td>\n",
       "      <td>Large</td>\n",
       "      <td>4.205779</td>\n",
       "    </tr>\n",
       "    <tr>\n",
       "      <th>700</th>\n",
       "      <td>2022</td>\n",
       "      <td>Senior-level</td>\n",
       "      <td>Full-time</td>\n",
       "      <td>Applied Data Scientist</td>\n",
       "      <td>380000</td>\n",
       "      <td>US</td>\n",
       "      <td>Remote</td>\n",
       "      <td>US</td>\n",
       "      <td>Large</td>\n",
       "      <td>3.838317</td>\n",
       "    </tr>\n",
       "    <tr>\n",
       "      <th>754</th>\n",
       "      <td>2020</td>\n",
       "      <td>Medium-level</td>\n",
       "      <td>Full-time</td>\n",
       "      <td>Research Scientist</td>\n",
       "      <td>450000</td>\n",
       "      <td>US</td>\n",
       "      <td>On-site</td>\n",
       "      <td>US</td>\n",
       "      <td>Medium</td>\n",
       "      <td>4.867210</td>\n",
       "    </tr>\n",
       "    <tr>\n",
       "      <th>811</th>\n",
       "      <td>2021</td>\n",
       "      <td>Medium-level</td>\n",
       "      <td>Full-time</td>\n",
       "      <td>Financial Data Analyst</td>\n",
       "      <td>450000</td>\n",
       "      <td>US</td>\n",
       "      <td>Remote</td>\n",
       "      <td>US</td>\n",
       "      <td>Large</td>\n",
       "      <td>4.867210</td>\n",
       "    </tr>\n",
       "    <tr>\n",
       "      <th>910</th>\n",
       "      <td>2021</td>\n",
       "      <td>Excutive-level</td>\n",
       "      <td>Contract</td>\n",
       "      <td>Principal Data Scientist</td>\n",
       "      <td>416000</td>\n",
       "      <td>US</td>\n",
       "      <td>Remote</td>\n",
       "      <td>US</td>\n",
       "      <td>Small</td>\n",
       "      <td>4.367462</td>\n",
       "    </tr>\n",
       "    <tr>\n",
       "      <th>933</th>\n",
       "      <td>2020</td>\n",
       "      <td>Excutive-level</td>\n",
       "      <td>Full-time</td>\n",
       "      <td>Director of Data Science</td>\n",
       "      <td>325000</td>\n",
       "      <td>US</td>\n",
       "      <td>Remote</td>\n",
       "      <td>US</td>\n",
       "      <td>Large</td>\n",
       "      <td>3.029900</td>\n",
       "    </tr>\n",
       "    <tr>\n",
       "      <th>939</th>\n",
       "      <td>2021</td>\n",
       "      <td>Excutive-level</td>\n",
       "      <td>Full-time</td>\n",
       "      <td>Principal Data Engineer</td>\n",
       "      <td>600000</td>\n",
       "      <td>US</td>\n",
       "      <td>Remote</td>\n",
       "      <td>US</td>\n",
       "      <td>Large</td>\n",
       "      <td>7.071982</td>\n",
       "    </tr>\n",
       "    <tr>\n",
       "      <th>985</th>\n",
       "      <td>2021</td>\n",
       "      <td>Medium-level</td>\n",
       "      <td>Full-time</td>\n",
       "      <td>Applied Machine Learning Scientist</td>\n",
       "      <td>423000</td>\n",
       "      <td>US</td>\n",
       "      <td>Hybrid</td>\n",
       "      <td>US</td>\n",
       "      <td>Large</td>\n",
       "      <td>4.470351</td>\n",
       "    </tr>\n",
       "    <tr>\n",
       "      <th>988</th>\n",
       "      <td>2020</td>\n",
       "      <td>Senior-level</td>\n",
       "      <td>Full-time</td>\n",
       "      <td>Data Scientist</td>\n",
       "      <td>412000</td>\n",
       "      <td>US</td>\n",
       "      <td>Remote</td>\n",
       "      <td>US</td>\n",
       "      <td>Large</td>\n",
       "      <td>4.308668</td>\n",
       "    </tr>\n",
       "  </tbody>\n",
       "</table>\n",
       "</div>"
      ],
      "text/plain": [
       "     work_year experience_level employment_type  \\\n",
       "641       2022   Excutive-level       Full-time   \n",
       "695       2022     Senior-level       Full-time   \n",
       "700       2022     Senior-level       Full-time   \n",
       "754       2020     Medium-level       Full-time   \n",
       "811       2021     Medium-level       Full-time   \n",
       "910       2021   Excutive-level        Contract   \n",
       "933       2020   Excutive-level       Full-time   \n",
       "939       2021   Excutive-level       Full-time   \n",
       "985       2021     Medium-level       Full-time   \n",
       "988       2020     Senior-level       Full-time   \n",
       "\n",
       "                              job_title  salary_in_usd employee_residence  \\\n",
       "641                       Data Engineer         324000                 US   \n",
       "695                 Data Analytics Lead         405000                 US   \n",
       "700              Applied Data Scientist         380000                 US   \n",
       "754                  Research Scientist         450000                 US   \n",
       "811              Financial Data Analyst         450000                 US   \n",
       "910            Principal Data Scientist         416000                 US   \n",
       "933            Director of Data Science         325000                 US   \n",
       "939             Principal Data Engineer         600000                 US   \n",
       "985  Applied Machine Learning Scientist         423000                 US   \n",
       "988                      Data Scientist         412000                 US   \n",
       "\n",
       "    remote_ratio company_location company_size   z_score  \n",
       "641       Remote               US       Medium  3.015202  \n",
       "695       Remote               US        Large  4.205779  \n",
       "700       Remote               US        Large  3.838317  \n",
       "754      On-site               US       Medium  4.867210  \n",
       "811       Remote               US        Large  4.867210  \n",
       "910       Remote               US        Small  4.367462  \n",
       "933       Remote               US        Large  3.029900  \n",
       "939       Remote               US        Large  7.071982  \n",
       "985       Hybrid               US        Large  4.470351  \n",
       "988       Remote               US        Large  4.308668  "
      ]
     },
     "execution_count": 5,
     "metadata": {},
     "output_type": "execute_result"
    }
   ],
   "source": [
    "#Using the calculated z-score to mark the outliers if the z-score is above 3 or below -3.\n",
    "Salary[(Salary['z_score'] < -3) | (Salary['z_score'] > 3)]"
   ]
  },
  {
   "cell_type": "code",
   "execution_count": 6,
   "metadata": {
    "slideshow": {
     "slide_type": "skip"
    }
   },
   "outputs": [],
   "source": [
    "#To remove these outlers in the salary_in_usd column\n",
    "new_df = Salary[(Salary['z_score'] < 3) & (Salary['z_score'] > -3)]"
   ]
  },
  {
   "cell_type": "markdown",
   "metadata": {
    "slideshow": {
     "slide_type": "notes"
    }
   },
   "source": [
    "> Note that the above cells have been set as \"Skip\"-type slides. That means\n",
    "that when the notebook is rendered as http slides, those cells won't show up."
   ]
  },
  {
   "cell_type": "markdown",
   "metadata": {
    "slideshow": {
     "slide_type": "slide"
    }
   },
   "source": [
    "## Distribution of salary_in_usd\n",
    "\n",
    "The salary_in_usd in the dataset take on a range of values, from about  2324 𝑎𝑡 𝑡ℎ𝑒 𝑙𝑜𝑤𝑒𝑠𝑡,𝑡𝑜 𝑎𝑏𝑜𝑢𝑡 600000 at the highest. Most comon salary_in_usd recorded ranges from 500k to 1500k."
   ]
  },
  {
   "cell_type": "code",
   "execution_count": 7,
   "metadata": {
    "slideshow": {
     "slide_type": "subslide"
    }
   },
   "outputs": [
    {
     "data": {
      "image/png": "[encoded data removed]",
      "text/plain": [
       "<Figure size 1440x576 with 2 Axes>"
      ]
     },
     "metadata": {},
     "output_type": "display_data"
    }
   ],
   "source": [
    "# Resize the chart, and have two plots side-by-side\n",
    "plt.figure(figsize = [20, 8]) \n",
    "\n",
    "# histogram on left, example of too-large bin size\n",
    "# 1 row, 2 cols, subplot 1\n",
    "plt.subplot(1, 2, 1) \n",
    "plt.hist(data = new_df, x = 'salary_in_usd')\n",
    "plt.title('Distribution of salary_in_usd')\n",
    "plt.ylabel('Count')\n",
    "plt.xlabel('Salary (in USD)');\n",
    "\n",
    "# histogram on right, example of too-small bin size\n",
    "plt.subplot(1, 2, 2) # 1 row, 2 cols, subplot 2\n",
    "bins = np.arange(0, new_df['salary_in_usd'].max()+3000, 3000)\n",
    "plt.hist(data = new_df, x = 'salary_in_usd', bins = bins)\n",
    "plt.title('Distribution of salary_in_usd')\n",
    "plt.ylabel('Count')\n",
    "plt.xlabel('Salary (in USD)');"
   ]
  },
  {
   "cell_type": "markdown",
   "metadata": {
    "slideshow": {
     "slide_type": "slide"
    }
   },
   "source": [
    "## Distribution of salary_in_usd by work_year\n",
    "In the dataset, most of the salary is distributed in 2022, followed by 2021 and lastly the 2020. This distribution indicates that most of the salary payment was made in 2022, which means that most of the jobs were recorded in 2022, then 2020 with the least numbers jobs being recorded."
   ]
  },
  {
   "cell_type": "code",
   "execution_count": 8,
   "metadata": {
    "slideshow": {
     "slide_type": "subslide"
    }
   },
   "outputs": [
    {
     "data": {
      "image/png": "[encoded data removed]",
      "text/plain": [
       "<Figure size 648x216 with 3 Axes>"
      ]
     },
     "metadata": {},
     "output_type": "display_data"
    }
   ],
   "source": [
    "#Plotting facetGrid of histograme of remote_ratio and salary_in_usd\n",
    "g = sb.FacetGrid(data = new_df, col = 'work_year', col_wrap=3)\n",
    "g.map(plt.hist, \"salary_in_usd\")\n",
    "g.set_titles('{col_name}')\n",
    "g.set_xlabels('Salary ($)')\n",
    "g.set_ylabels('Count')\n",
    "plt.xticks([1e5, 2e5, 3e5], ['100k', '200k', '300k']);"
   ]
  },
  {
   "cell_type": "markdown",
   "metadata": {
    "collapsed": true,
    "slideshow": {
     "slide_type": "slide"
    }
   },
   "source": [
    "## Distribution of salary_in_usd by work_year\n",
    "\n",
    "In the dataset, most of the salary is distributed in medium company size, followed by large company and the lastly the small company. This distribution indicates that most of the payment salary was made in medium companies, which relates to the number jobs being highest in the said company size."
   ]
  },
  {
   "cell_type": "code",
   "execution_count": 9,
   "metadata": {
    "slideshow": {
     "slide_type": "subslide"
    }
   },
   "outputs": [
    {
     "data": {
      "image/png": "[encoded data removed]",
      "text/plain": [
       "<Figure size 648x216 with 3 Axes>"
      ]
     },
     "metadata": {},
     "output_type": "display_data"
    }
   ],
   "source": [
    "#Plotting facetGrid of histograme of company_size and salary_in_usd\n",
    "g = sb.FacetGrid(data = new_df, col = 'company_size', col_wrap=3)\n",
    "g.map(plt.hist, \"salary_in_usd\")\n",
    "g.set_titles('{col_name}')\n",
    "g.set_xlabels('Salary ($)')\n",
    "g.set_ylabels('Count')\n",
    "plt.xticks([1e5, 2e5, 3e5], ['100k', '200k', '300k']);"
   ]
  },
  {
   "cell_type": "markdown",
   "metadata": {
    "slideshow": {
     "slide_type": "slide"
    }
   },
   "source": [
    "## Distribution of salary_in_usd by company_size and experience_level\n",
    "The boxplots above reveled that in Senior-level experience more salaries was recorded in the medium size and large companies, the least being small sized companies. In Medium-level experience, most of the salaries was recorded in both medium sized and large sized companies, with small recorded in small sized companies. In Entry-level, more salary was recorded by small companies, followed closely by large companies, least being medium companies. In Excutive-level, the medium and large companies recorded the highest salary, the least being small companies."
   ]
  },
  {
   "cell_type": "code",
   "execution_count": 10,
   "metadata": {
    "slideshow": {
     "slide_type": "subslide"
    }
   },
   "outputs": [
    {
     "data": {
      "image/png": "[encoded data removed]",
      "text/plain": [
       "<Figure size 720x720 with 4 Axes>"
      ]
     },
     "metadata": {},
     "output_type": "display_data"
    }
   ],
   "source": [
    "#Plotting facetGrid of boxnplot of company_size, experience_level and salary_in_usd\n",
    "order = ['Small', 'Medium', 'Large']\n",
    "g = sb.FacetGrid(data = new_df, col = 'experience_level', height = 5, col_wrap=2, row_order=None)\n",
    "g.map(sb.boxplot, 'company_size', 'salary_in_usd', order =order)\n",
    "g.set_titles('{col_name}')\n",
    "plt.yticks([1e5, 2e5, 3e5, 4e5, 5e5, 6e5], ['100k', '200k', '300k', '400k', '500k', '600k'])\n",
    "g.set_xlabels('Company Size')\n",
    "g.set_ylabels('Salary ($)');"
   ]
  },
  {
   "cell_type": "markdown",
   "metadata": {
    "slideshow": {
     "slide_type": "notes"
    }
   },
   "source": [
    ">**Generate Slideshow**: Once you're ready to generate your slideshow, use the `jupyter nbconvert` command to generate the HTML slide show. . From the terminal or command line, use the following expression."
   ]
  },
  {
   "cell_type": "code",
   "execution_count": 11,
   "metadata": {
    "slideshow": {
     "slide_type": "skip"
    }
   },
   "outputs": [
    {
     "name": "stderr",
     "output_type": "stream",
     "text": [
      "The system cannot find the file specified.\n"
     ]
    }
   ],
   "source": [
    "!jupyter nbconvert <Part_II_slide_deck_template>.ipynb --to slides --post serve --no-input --no-prompt"
   ]
  },
  {
   "cell_type": "markdown",
   "metadata": {
    "slideshow": {
     "slide_type": "notes"
    }
   },
   "source": [
    "> This should open a tab in your web browser where you can scroll through your presentation. Sub-slides can be accessed by pressing 'down' when viewing its parent slide. Make sure you remove all of the quote-formatted guide notes like this one before you finish your presentation! At last, you can stop the Kernel. "
   ]
  },
  {
   "cell_type": "code",
   "execution_count": null,
   "metadata": {},
   "outputs": [],
   "source": []
  }
 ],
 "metadata": {
  "celltoolbar": "Slideshow",
  "kernelspec": {
   "display_name": "Python 3 (ipykernel)",
   "language": "python",
   "name": "python3"
  },
  "language_info": {
   "codemirror_mode": {
    "name": "ipython",
    "version": 3
   },
   "file_extension": ".py",
   "mimetype": "text/x-python",
   "name": "python",
   "nbconvert_exporter": "python",
   "pygments_lexer": "ipython3",
   "version": "3.10.4"
  }
 },
 "nbformat": 4,
 "nbformat_minor": 2
}
